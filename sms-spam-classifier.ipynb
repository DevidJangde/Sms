{
 "cells": [
  {
   "cell_type": "code",
   "execution_count": 1,
   "id": "903f8851",
   "metadata": {
    "_cell_guid": "b1076dfc-b9ad-4769-8c92-a6c4dae69d19",
    "_uuid": "8f2839f25d086af736a60e9eeb907d3b93b6e0e5",
    "execution": {
     "iopub.execute_input": "2024-07-13T18:05:26.143416Z",
     "iopub.status.busy": "2024-07-13T18:05:26.142899Z",
     "iopub.status.idle": "2024-07-13T18:05:27.291828Z",
     "shell.execute_reply": "2024-07-13T18:05:27.290451Z"
    },
    "papermill": {
     "duration": 1.17024,
     "end_time": "2024-07-13T18:05:27.294710",
     "exception": false,
     "start_time": "2024-07-13T18:05:26.124470",
     "status": "completed"
    },
    "tags": []
   },
   "outputs": [
    {
     "name": "stdout",
     "output_type": "stream",
     "text": [
      "/kaggle/input/sms-spam-collection-dataset/spam.csv\n"
     ]
    }
   ],
   "source": [
    "import os\n",
    "for dirname, _, filenames in os.walk('/kaggle/input'):\n",
    "    for filename in filenames:\n",
    "        print(os.path.join(dirname, filename))"
   ]
  },
  {
   "cell_type": "code",
   "execution_count": 2,
   "id": "391bf628",
   "metadata": {
    "execution": {
     "iopub.execute_input": "2024-07-13T18:05:27.326660Z",
     "iopub.status.busy": "2024-07-13T18:05:27.326149Z",
     "iopub.status.idle": "2024-07-13T18:05:27.367498Z",
     "shell.execute_reply": "2024-07-13T18:05:27.366224Z"
    },
    "papermill": {
     "duration": 0.060822,
     "end_time": "2024-07-13T18:05:27.370483",
     "exception": false,
     "start_time": "2024-07-13T18:05:27.309661",
     "status": "completed"
    },
    "tags": []
   },
   "outputs": [],
   "source": [
    "df = pd.read_csv('/kaggle/input/sms-spam-collection-dataset/spam.csv', encoding='latin1')"
   ]
  },
  {
   "cell_type": "code",
   "execution_count": 3,
   "id": "11c8a95e",
   "metadata": {
    "execution": {
     "iopub.execute_input": "2024-07-13T18:05:27.402374Z",
     "iopub.status.busy": "2024-07-13T18:05:27.401961Z",
     "iopub.status.idle": "2024-07-13T18:05:27.427576Z",
     "shell.execute_reply": "2024-07-13T18:05:27.426430Z"
    },
    "papermill": {
     "duration": 0.044242,
     "end_time": "2024-07-13T18:05:27.430213",
     "exception": false,
     "start_time": "2024-07-13T18:05:27.385971",
     "status": "completed"
    },
    "tags": []
   },
   "outputs": [
    {
     "data": {
      "text/html": [
       "<div>\n",
       "<style scoped>\n",
       "    .dataframe tbody tr th:only-of-type {\n",
       "        vertical-align: middle;\n",
       "    }\n",
       "\n",
       "    .dataframe tbody tr th {\n",
       "        vertical-align: top;\n",
       "    }\n",
       "\n",
       "    .dataframe thead th {\n",
       "        text-align: right;\n",
       "    }\n",
       "</style>\n",
       "<table border=\"1\" class=\"dataframe\">\n",
       "  <thead>\n",
       "    <tr style=\"text-align: right;\">\n",
       "      <th></th>\n",
       "      <th>v1</th>\n",
       "      <th>v2</th>\n",
       "      <th>Unnamed: 2</th>\n",
       "      <th>Unnamed: 3</th>\n",
       "      <th>Unnamed: 4</th>\n",
       "    </tr>\n",
       "  </thead>\n",
       "  <tbody>\n",
       "    <tr>\n",
       "      <th>0</th>\n",
       "      <td>ham</td>\n",
       "      <td>Go until jurong point, crazy.. Available only ...</td>\n",
       "      <td>NaN</td>\n",
       "      <td>NaN</td>\n",
       "      <td>NaN</td>\n",
       "    </tr>\n",
       "    <tr>\n",
       "      <th>1</th>\n",
       "      <td>ham</td>\n",
       "      <td>Ok lar... Joking wif u oni...</td>\n",
       "      <td>NaN</td>\n",
       "      <td>NaN</td>\n",
       "      <td>NaN</td>\n",
       "    </tr>\n",
       "    <tr>\n",
       "      <th>2</th>\n",
       "      <td>spam</td>\n",
       "      <td>Free entry in 2 a wkly comp to win FA Cup fina...</td>\n",
       "      <td>NaN</td>\n",
       "      <td>NaN</td>\n",
       "      <td>NaN</td>\n",
       "    </tr>\n",
       "    <tr>\n",
       "      <th>3</th>\n",
       "      <td>ham</td>\n",
       "      <td>U dun say so early hor... U c already then say...</td>\n",
       "      <td>NaN</td>\n",
       "      <td>NaN</td>\n",
       "      <td>NaN</td>\n",
       "    </tr>\n",
       "    <tr>\n",
       "      <th>4</th>\n",
       "      <td>ham</td>\n",
       "      <td>Nah I don't think he goes to usf, he lives aro...</td>\n",
       "      <td>NaN</td>\n",
       "      <td>NaN</td>\n",
       "      <td>NaN</td>\n",
       "    </tr>\n",
       "  </tbody>\n",
       "</table>\n",
       "</div>"
      ],
      "text/plain": [
       "     v1                                                 v2 Unnamed: 2  \\\n",
       "0   ham  Go until jurong point, crazy.. Available only ...        NaN   \n",
       "1   ham                      Ok lar... Joking wif u oni...        NaN   \n",
       "2  spam  Free entry in 2 a wkly comp to win FA Cup fina...        NaN   \n",
       "3   ham  U dun say so early hor... U c already then say...        NaN   \n",
       "4   ham  Nah I don't think he goes to usf, he lives aro...        NaN   \n",
       "\n",
       "  Unnamed: 3 Unnamed: 4  \n",
       "0        NaN        NaN  \n",
       "1        NaN        NaN  \n",
       "2        NaN        NaN  \n",
       "3        NaN        NaN  \n",
       "4        NaN        NaN  "
      ]
     },
     "execution_count": 3,
     "metadata": {},
     "output_type": "execute_result"
    }
   ],
   "source": [
    "df.head()"
   ]
  },
  {
   "cell_type": "markdown",
   "id": "0f832b53",
   "metadata": {
    "papermill": {
     "duration": 0.014484,
     "end_time": "2024-07-13T18:05:27.460376",
     "exception": false,
     "start_time": "2024-07-13T18:05:27.445892",
     "status": "completed"
    },
    "tags": []
   },
   "source": [
    "## Data Cleaning"
   ]
  },
  {
   "cell_type": "code",
   "execution_count": 4,
   "id": "537c6466",
   "metadata": {
    "execution": {
     "iopub.execute_input": "2024-07-13T18:05:27.494437Z",
     "iopub.status.busy": "2024-07-13T18:05:27.493988Z",
     "iopub.status.idle": "2024-07-13T18:05:27.524648Z",
     "shell.execute_reply": "2024-07-13T18:05:27.523491Z"
    },
    "papermill": {
     "duration": 0.052529,
     "end_time": "2024-07-13T18:05:27.529189",
     "exception": false,
     "start_time": "2024-07-13T18:05:27.476660",
     "status": "completed"
    },
    "tags": []
   },
   "outputs": [
    {
     "name": "stdout",
     "output_type": "stream",
     "text": [
      "<class 'pandas.core.frame.DataFrame'>\n",
      "RangeIndex: 5572 entries, 0 to 5571\n",
      "Data columns (total 5 columns):\n",
      " #   Column      Non-Null Count  Dtype \n",
      "---  ------      --------------  ----- \n",
      " 0   v1          5572 non-null   object\n",
      " 1   v2          5572 non-null   object\n",
      " 2   Unnamed: 2  50 non-null     object\n",
      " 3   Unnamed: 3  12 non-null     object\n",
      " 4   Unnamed: 4  6 non-null      object\n",
      "dtypes: object(5)\n",
      "memory usage: 217.8+ KB\n"
     ]
    }
   ],
   "source": [
    "df.info()"
   ]
  },
  {
   "cell_type": "code",
   "execution_count": 5,
   "id": "6398a8bb",
   "metadata": {
    "execution": {
     "iopub.execute_input": "2024-07-13T18:05:27.566302Z",
     "iopub.status.busy": "2024-07-13T18:05:27.565832Z",
     "iopub.status.idle": "2024-07-13T18:05:27.575113Z",
     "shell.execute_reply": "2024-07-13T18:05:27.573831Z"
    },
    "papermill": {
     "duration": 0.032657,
     "end_time": "2024-07-13T18:05:27.578732",
     "exception": false,
     "start_time": "2024-07-13T18:05:27.546075",
     "status": "completed"
    },
    "tags": []
   },
   "outputs": [],
   "source": [
    "df.drop(columns=['Unnamed: 2','Unnamed: 3','Unnamed: 4'],inplace=True)"
   ]
  },
  {
   "cell_type": "code",
   "execution_count": 6,
   "id": "8a5ec9b1",
   "metadata": {
    "execution": {
     "iopub.execute_input": "2024-07-13T18:05:27.614570Z",
     "iopub.status.busy": "2024-07-13T18:05:27.614182Z",
     "iopub.status.idle": "2024-07-13T18:05:27.630497Z",
     "shell.execute_reply": "2024-07-13T18:05:27.629240Z"
    },
    "papermill": {
     "duration": 0.03608,
     "end_time": "2024-07-13T18:05:27.633335",
     "exception": false,
     "start_time": "2024-07-13T18:05:27.597255",
     "status": "completed"
    },
    "tags": []
   },
   "outputs": [
    {
     "data": {
      "text/html": [
       "<div>\n",
       "<style scoped>\n",
       "    .dataframe tbody tr th:only-of-type {\n",
       "        vertical-align: middle;\n",
       "    }\n",
       "\n",
       "    .dataframe tbody tr th {\n",
       "        vertical-align: top;\n",
       "    }\n",
       "\n",
       "    .dataframe thead th {\n",
       "        text-align: right;\n",
       "    }\n",
       "</style>\n",
       "<table border=\"1\" class=\"dataframe\">\n",
       "  <thead>\n",
       "    <tr style=\"text-align: right;\">\n",
       "      <th></th>\n",
       "      <th>v1</th>\n",
       "      <th>v2</th>\n",
       "    </tr>\n",
       "  </thead>\n",
       "  <tbody>\n",
       "    <tr>\n",
       "      <th>2966</th>\n",
       "      <td>ham</td>\n",
       "      <td>NEFT Transaction with reference number  &amp;lt;#&amp;...</td>\n",
       "    </tr>\n",
       "    <tr>\n",
       "      <th>195</th>\n",
       "      <td>ham</td>\n",
       "      <td>Gud mrng dear hav a nice day</td>\n",
       "    </tr>\n",
       "  </tbody>\n",
       "</table>\n",
       "</div>"
      ],
      "text/plain": [
       "       v1                                                 v2\n",
       "2966  ham  NEFT Transaction with reference number  &lt;#&...\n",
       "195   ham                       Gud mrng dear hav a nice day"
      ]
     },
     "execution_count": 6,
     "metadata": {},
     "output_type": "execute_result"
    }
   ],
   "source": [
    "df.sample(2)"
   ]
  },
  {
   "cell_type": "code",
   "execution_count": 7,
   "id": "73c4f1a3",
   "metadata": {
    "execution": {
     "iopub.execute_input": "2024-07-13T18:05:27.667895Z",
     "iopub.status.busy": "2024-07-13T18:05:27.667246Z",
     "iopub.status.idle": "2024-07-13T18:05:27.675953Z",
     "shell.execute_reply": "2024-07-13T18:05:27.674371Z"
    },
    "papermill": {
     "duration": 0.029968,
     "end_time": "2024-07-13T18:05:27.678959",
     "exception": false,
     "start_time": "2024-07-13T18:05:27.648991",
     "status": "completed"
    },
    "tags": []
   },
   "outputs": [],
   "source": [
    "df.rename(columns={'v1':'result','v2':'message'},inplace=True)"
   ]
  },
  {
   "cell_type": "code",
   "execution_count": 8,
   "id": "0bc5f103",
   "metadata": {
    "execution": {
     "iopub.execute_input": "2024-07-13T18:05:27.715407Z",
     "iopub.status.busy": "2024-07-13T18:05:27.714793Z",
     "iopub.status.idle": "2024-07-13T18:05:27.731082Z",
     "shell.execute_reply": "2024-07-13T18:05:27.729461Z"
    },
    "papermill": {
     "duration": 0.037671,
     "end_time": "2024-07-13T18:05:27.734221",
     "exception": false,
     "start_time": "2024-07-13T18:05:27.696550",
     "status": "completed"
    },
    "tags": []
   },
   "outputs": [
    {
     "data": {
      "text/html": [
       "<div>\n",
       "<style scoped>\n",
       "    .dataframe tbody tr th:only-of-type {\n",
       "        vertical-align: middle;\n",
       "    }\n",
       "\n",
       "    .dataframe tbody tr th {\n",
       "        vertical-align: top;\n",
       "    }\n",
       "\n",
       "    .dataframe thead th {\n",
       "        text-align: right;\n",
       "    }\n",
       "</style>\n",
       "<table border=\"1\" class=\"dataframe\">\n",
       "  <thead>\n",
       "    <tr style=\"text-align: right;\">\n",
       "      <th></th>\n",
       "      <th>result</th>\n",
       "      <th>message</th>\n",
       "    </tr>\n",
       "  </thead>\n",
       "  <tbody>\n",
       "    <tr>\n",
       "      <th>1558</th>\n",
       "      <td>ham</td>\n",
       "      <td>Message from . I am at Truro Hospital on ext. ...</td>\n",
       "    </tr>\n",
       "    <tr>\n",
       "      <th>1672</th>\n",
       "      <td>spam</td>\n",
       "      <td>URGENT! We are trying to contact U. Todays dra...</td>\n",
       "    </tr>\n",
       "  </tbody>\n",
       "</table>\n",
       "</div>"
      ],
      "text/plain": [
       "     result                                            message\n",
       "1558    ham  Message from . I am at Truro Hospital on ext. ...\n",
       "1672   spam  URGENT! We are trying to contact U. Todays dra..."
      ]
     },
     "execution_count": 8,
     "metadata": {},
     "output_type": "execute_result"
    }
   ],
   "source": [
    "df.sample(2)"
   ]
  },
  {
   "cell_type": "code",
   "execution_count": 9,
   "id": "128a9f4b",
   "metadata": {
    "execution": {
     "iopub.execute_input": "2024-07-13T18:05:27.769756Z",
     "iopub.status.busy": "2024-07-13T18:05:27.769386Z",
     "iopub.status.idle": "2024-07-13T18:05:29.297095Z",
     "shell.execute_reply": "2024-07-13T18:05:29.295818Z"
    },
    "papermill": {
     "duration": 1.548227,
     "end_time": "2024-07-13T18:05:29.300453",
     "exception": false,
     "start_time": "2024-07-13T18:05:27.752226",
     "status": "completed"
    },
    "tags": []
   },
   "outputs": [],
   "source": [
    "#changing the result coulm values to 0 and 1\n",
    "from sklearn.preprocessing import LabelEncoder\n",
    "encoder=LabelEncoder()"
   ]
  },
  {
   "cell_type": "code",
   "execution_count": 10,
   "id": "b6d55782",
   "metadata": {
    "execution": {
     "iopub.execute_input": "2024-07-13T18:05:29.336197Z",
     "iopub.status.busy": "2024-07-13T18:05:29.335685Z",
     "iopub.status.idle": "2024-07-13T18:05:29.345516Z",
     "shell.execute_reply": "2024-07-13T18:05:29.343502Z"
    },
    "papermill": {
     "duration": 0.031078,
     "end_time": "2024-07-13T18:05:29.348681",
     "exception": false,
     "start_time": "2024-07-13T18:05:29.317603",
     "status": "completed"
    },
    "tags": []
   },
   "outputs": [],
   "source": [
    "df['result']=encoder.fit_transform(df['result'])"
   ]
  },
  {
   "cell_type": "code",
   "execution_count": 11,
   "id": "f71bf8eb",
   "metadata": {
    "execution": {
     "iopub.execute_input": "2024-07-13T18:05:29.384963Z",
     "iopub.status.busy": "2024-07-13T18:05:29.384482Z",
     "iopub.status.idle": "2024-07-13T18:05:29.399471Z",
     "shell.execute_reply": "2024-07-13T18:05:29.397729Z"
    },
    "papermill": {
     "duration": 0.036931,
     "end_time": "2024-07-13T18:05:29.402852",
     "exception": false,
     "start_time": "2024-07-13T18:05:29.365921",
     "status": "completed"
    },
    "tags": []
   },
   "outputs": [
    {
     "data": {
      "text/html": [
       "<div>\n",
       "<style scoped>\n",
       "    .dataframe tbody tr th:only-of-type {\n",
       "        vertical-align: middle;\n",
       "    }\n",
       "\n",
       "    .dataframe tbody tr th {\n",
       "        vertical-align: top;\n",
       "    }\n",
       "\n",
       "    .dataframe thead th {\n",
       "        text-align: right;\n",
       "    }\n",
       "</style>\n",
       "<table border=\"1\" class=\"dataframe\">\n",
       "  <thead>\n",
       "    <tr style=\"text-align: right;\">\n",
       "      <th></th>\n",
       "      <th>result</th>\n",
       "      <th>message</th>\n",
       "    </tr>\n",
       "  </thead>\n",
       "  <tbody>\n",
       "    <tr>\n",
       "      <th>0</th>\n",
       "      <td>0</td>\n",
       "      <td>Go until jurong point, crazy.. Available only ...</td>\n",
       "    </tr>\n",
       "    <tr>\n",
       "      <th>1</th>\n",
       "      <td>0</td>\n",
       "      <td>Ok lar... Joking wif u oni...</td>\n",
       "    </tr>\n",
       "    <tr>\n",
       "      <th>2</th>\n",
       "      <td>1</td>\n",
       "      <td>Free entry in 2 a wkly comp to win FA Cup fina...</td>\n",
       "    </tr>\n",
       "    <tr>\n",
       "      <th>3</th>\n",
       "      <td>0</td>\n",
       "      <td>U dun say so early hor... U c already then say...</td>\n",
       "    </tr>\n",
       "    <tr>\n",
       "      <th>4</th>\n",
       "      <td>0</td>\n",
       "      <td>Nah I don't think he goes to usf, he lives aro...</td>\n",
       "    </tr>\n",
       "  </tbody>\n",
       "</table>\n",
       "</div>"
      ],
      "text/plain": [
       "   result                                            message\n",
       "0       0  Go until jurong point, crazy.. Available only ...\n",
       "1       0                      Ok lar... Joking wif u oni...\n",
       "2       1  Free entry in 2 a wkly comp to win FA Cup fina...\n",
       "3       0  U dun say so early hor... U c already then say...\n",
       "4       0  Nah I don't think he goes to usf, he lives aro..."
      ]
     },
     "execution_count": 11,
     "metadata": {},
     "output_type": "execute_result"
    }
   ],
   "source": [
    "df.head()"
   ]
  },
  {
   "cell_type": "code",
   "execution_count": 12,
   "id": "22e69fa8",
   "metadata": {
    "execution": {
     "iopub.execute_input": "2024-07-13T18:05:29.440332Z",
     "iopub.status.busy": "2024-07-13T18:05:29.439895Z",
     "iopub.status.idle": "2024-07-13T18:05:29.453134Z",
     "shell.execute_reply": "2024-07-13T18:05:29.451255Z"
    },
    "papermill": {
     "duration": 0.03407,
     "end_time": "2024-07-13T18:05:29.456347",
     "exception": false,
     "start_time": "2024-07-13T18:05:29.422277",
     "status": "completed"
    },
    "tags": []
   },
   "outputs": [
    {
     "data": {
      "text/plain": [
       "result     0\n",
       "message    0\n",
       "dtype: int64"
      ]
     },
     "execution_count": 12,
     "metadata": {},
     "output_type": "execute_result"
    }
   ],
   "source": [
    "df.isnull().sum()"
   ]
  },
  {
   "cell_type": "code",
   "execution_count": 13,
   "id": "ddb60d18",
   "metadata": {
    "execution": {
     "iopub.execute_input": "2024-07-13T18:05:29.495905Z",
     "iopub.status.busy": "2024-07-13T18:05:29.495431Z",
     "iopub.status.idle": "2024-07-13T18:05:29.512271Z",
     "shell.execute_reply": "2024-07-13T18:05:29.510807Z"
    },
    "papermill": {
     "duration": 0.042898,
     "end_time": "2024-07-13T18:05:29.516722",
     "exception": false,
     "start_time": "2024-07-13T18:05:29.473824",
     "status": "completed"
    },
    "tags": []
   },
   "outputs": [
    {
     "data": {
      "text/plain": [
       "403"
      ]
     },
     "execution_count": 13,
     "metadata": {},
     "output_type": "execute_result"
    }
   ],
   "source": [
    "df.duplicated().sum()"
   ]
  },
  {
   "cell_type": "code",
   "execution_count": 14,
   "id": "0d9180e0",
   "metadata": {
    "execution": {
     "iopub.execute_input": "2024-07-13T18:05:29.557934Z",
     "iopub.status.busy": "2024-07-13T18:05:29.557470Z",
     "iopub.status.idle": "2024-07-13T18:05:29.568120Z",
     "shell.execute_reply": "2024-07-13T18:05:29.566908Z"
    },
    "papermill": {
     "duration": 0.034248,
     "end_time": "2024-07-13T18:05:29.571855",
     "exception": false,
     "start_time": "2024-07-13T18:05:29.537607",
     "status": "completed"
    },
    "tags": []
   },
   "outputs": [],
   "source": [
    "#dropping duplicates\n",
    "df=df.drop_duplicates(keep='first')"
   ]
  },
  {
   "cell_type": "code",
   "execution_count": 15,
   "id": "aede6332",
   "metadata": {
    "execution": {
     "iopub.execute_input": "2024-07-13T18:05:29.608805Z",
     "iopub.status.busy": "2024-07-13T18:05:29.608295Z",
     "iopub.status.idle": "2024-07-13T18:05:29.621227Z",
     "shell.execute_reply": "2024-07-13T18:05:29.619176Z"
    },
    "papermill": {
     "duration": 0.037278,
     "end_time": "2024-07-13T18:05:29.625594",
     "exception": false,
     "start_time": "2024-07-13T18:05:29.588316",
     "status": "completed"
    },
    "tags": []
   },
   "outputs": [
    {
     "data": {
      "text/plain": [
       "0"
      ]
     },
     "execution_count": 15,
     "metadata": {},
     "output_type": "execute_result"
    }
   ],
   "source": [
    "df.duplicated().sum()"
   ]
  },
  {
   "cell_type": "code",
   "execution_count": 16,
   "id": "f71e0fcf",
   "metadata": {
    "execution": {
     "iopub.execute_input": "2024-07-13T18:05:29.665104Z",
     "iopub.status.busy": "2024-07-13T18:05:29.664486Z",
     "iopub.status.idle": "2024-07-13T18:05:29.675061Z",
     "shell.execute_reply": "2024-07-13T18:05:29.673000Z"
    },
    "papermill": {
     "duration": 0.032815,
     "end_time": "2024-07-13T18:05:29.678356",
     "exception": false,
     "start_time": "2024-07-13T18:05:29.645541",
     "status": "completed"
    },
    "tags": []
   },
   "outputs": [
    {
     "data": {
      "text/plain": [
       "(5169, 2)"
      ]
     },
     "execution_count": 16,
     "metadata": {},
     "output_type": "execute_result"
    }
   ],
   "source": [
    "df.shape"
   ]
  },
  {
   "cell_type": "markdown",
   "id": "3608150c",
   "metadata": {
    "papermill": {
     "duration": 0.017228,
     "end_time": "2024-07-13T18:05:29.714250",
     "exception": false,
     "start_time": "2024-07-13T18:05:29.697022",
     "status": "completed"
    },
    "tags": []
   },
   "source": [
    "## EDA"
   ]
  },
  {
   "cell_type": "code",
   "execution_count": 17,
   "id": "d4937517",
   "metadata": {
    "execution": {
     "iopub.execute_input": "2024-07-13T18:05:29.750370Z",
     "iopub.status.busy": "2024-07-13T18:05:29.749925Z",
     "iopub.status.idle": "2024-07-13T18:05:30.041700Z",
     "shell.execute_reply": "2024-07-13T18:05:30.040340Z"
    },
    "papermill": {
     "duration": 0.313068,
     "end_time": "2024-07-13T18:05:30.044494",
     "exception": false,
     "start_time": "2024-07-13T18:05:29.731426",
     "status": "completed"
    },
    "tags": []
   },
   "outputs": [
    {
     "data": {
      "text/plain": [
       "<Axes: xlabel='result'>"
      ]
     },
     "execution_count": 17,
     "metadata": {},
     "output_type": "execute_result"
    },
    {
     "data": {
      "image/png": "[encoded data removed]",
      "text/plain": [
       "<Figure size 640x480 with 1 Axes>"
      ]
     },
     "metadata": {},
     "output_type": "display_data"
    }
   ],
   "source": [
    "df['result'].value_counts().plot.bar()"
   ]
  },
  {
   "cell_type": "markdown",
   "id": "5133692d",
   "metadata": {
    "papermill": {
     "duration": 0.017138,
     "end_time": "2024-07-13T18:05:30.078857",
     "exception": false,
     "start_time": "2024-07-13T18:05:30.061719",
     "status": "completed"
    },
    "tags": []
   },
   "source": [
    "We hame more no. of ham messgaes than spam"
   ]
  },
  {
   "cell_type": "code",
   "execution_count": 18,
   "id": "559b8b41",
   "metadata": {
    "execution": {
     "iopub.execute_input": "2024-07-13T18:05:30.118032Z",
     "iopub.status.busy": "2024-07-13T18:05:30.117589Z",
     "iopub.status.idle": "2024-07-13T18:05:30.128944Z",
     "shell.execute_reply": "2024-07-13T18:05:30.127755Z"
    },
    "papermill": {
     "duration": 0.034625,
     "end_time": "2024-07-13T18:05:30.131474",
     "exception": false,
     "start_time": "2024-07-13T18:05:30.096849",
     "status": "completed"
    },
    "tags": []
   },
   "outputs": [
    {
     "data": {
      "text/html": [
       "<div>\n",
       "<style scoped>\n",
       "    .dataframe tbody tr th:only-of-type {\n",
       "        vertical-align: middle;\n",
       "    }\n",
       "\n",
       "    .dataframe tbody tr th {\n",
       "        vertical-align: top;\n",
       "    }\n",
       "\n",
       "    .dataframe thead th {\n",
       "        text-align: right;\n",
       "    }\n",
       "</style>\n",
       "<table border=\"1\" class=\"dataframe\">\n",
       "  <thead>\n",
       "    <tr style=\"text-align: right;\">\n",
       "      <th></th>\n",
       "      <th>result</th>\n",
       "      <th>message</th>\n",
       "    </tr>\n",
       "  </thead>\n",
       "  <tbody>\n",
       "    <tr>\n",
       "      <th>1078</th>\n",
       "      <td>0</td>\n",
       "      <td>Convey my regards to him</td>\n",
       "    </tr>\n",
       "    <tr>\n",
       "      <th>4430</th>\n",
       "      <td>0</td>\n",
       "      <td>2mro i am not coming to gym machan. Goodnight.</td>\n",
       "    </tr>\n",
       "  </tbody>\n",
       "</table>\n",
       "</div>"
      ],
      "text/plain": [
       "      result                                         message\n",
       "1078       0                        Convey my regards to him\n",
       "4430       0  2mro i am not coming to gym machan. Goodnight."
      ]
     },
     "execution_count": 18,
     "metadata": {},
     "output_type": "execute_result"
    }
   ],
   "source": [
    "df.sample(2)"
   ]
  },
  {
   "cell_type": "code",
   "execution_count": 19,
   "id": "6fc7632f",
   "metadata": {
    "execution": {
     "iopub.execute_input": "2024-07-13T18:05:30.167718Z",
     "iopub.status.busy": "2024-07-13T18:05:30.167322Z",
     "iopub.status.idle": "2024-07-13T18:05:30.173233Z",
     "shell.execute_reply": "2024-07-13T18:05:30.171858Z"
    },
    "papermill": {
     "duration": 0.027401,
     "end_time": "2024-07-13T18:05:30.176306",
     "exception": false,
     "start_time": "2024-07-13T18:05:30.148905",
     "status": "completed"
    },
    "tags": []
   },
   "outputs": [],
   "source": [
    "import re"
   ]
  },
  {
   "cell_type": "code",
   "execution_count": 20,
   "id": "f43c6deb",
   "metadata": {
    "execution": {
     "iopub.execute_input": "2024-07-13T18:05:30.295523Z",
     "iopub.status.busy": "2024-07-13T18:05:30.295088Z",
     "iopub.status.idle": "2024-07-13T18:05:30.343034Z",
     "shell.execute_reply": "2024-07-13T18:05:30.341707Z"
    },
    "papermill": {
     "duration": 0.151399,
     "end_time": "2024-07-13T18:05:30.345852",
     "exception": false,
     "start_time": "2024-07-13T18:05:30.194453",
     "status": "completed"
    },
    "tags": []
   },
   "outputs": [],
   "source": [
    "df['num_characters']=df['message'].apply(len)\n",
    "df['num_words']=df['message'].apply(lambda x:len(x.split(' ')))\n",
    "df['num_sentences']=df['message'].apply(lambda x:re.split(r'[.?]', x))"
   ]
  },
  {
   "cell_type": "code",
   "execution_count": 21,
   "id": "0e3f023a",
   "metadata": {
    "execution": {
     "iopub.execute_input": "2024-07-13T18:05:30.382653Z",
     "iopub.status.busy": "2024-07-13T18:05:30.382228Z",
     "iopub.status.idle": "2024-07-13T18:05:30.397858Z",
     "shell.execute_reply": "2024-07-13T18:05:30.396771Z"
    },
    "papermill": {
     "duration": 0.036801,
     "end_time": "2024-07-13T18:05:30.400546",
     "exception": false,
     "start_time": "2024-07-13T18:05:30.363745",
     "status": "completed"
    },
    "tags": []
   },
   "outputs": [
    {
     "data": {
      "text/html": [
       "<div>\n",
       "<style scoped>\n",
       "    .dataframe tbody tr th:only-of-type {\n",
       "        vertical-align: middle;\n",
       "    }\n",
       "\n",
       "    .dataframe tbody tr th {\n",
       "        vertical-align: top;\n",
       "    }\n",
       "\n",
       "    .dataframe thead th {\n",
       "        text-align: right;\n",
       "    }\n",
       "</style>\n",
       "<table border=\"1\" class=\"dataframe\">\n",
       "  <thead>\n",
       "    <tr style=\"text-align: right;\">\n",
       "      <th></th>\n",
       "      <th>result</th>\n",
       "      <th>message</th>\n",
       "      <th>num_characters</th>\n",
       "      <th>num_words</th>\n",
       "      <th>num_sentences</th>\n",
       "    </tr>\n",
       "  </thead>\n",
       "  <tbody>\n",
       "    <tr>\n",
       "      <th>3877</th>\n",
       "      <td>0</td>\n",
       "      <td>What you need. You have a person to give na.</td>\n",
       "      <td>44</td>\n",
       "      <td>10</td>\n",
       "      <td>[What you need,  You have a person to give na, ]</td>\n",
       "    </tr>\n",
       "    <tr>\n",
       "      <th>4532</th>\n",
       "      <td>1</td>\n",
       "      <td>Gr8 new service - live sex video chat on your ...</td>\n",
       "      <td>160</td>\n",
       "      <td>34</td>\n",
       "      <td>[Gr8 new service - live sex video chat on your...</td>\n",
       "    </tr>\n",
       "  </tbody>\n",
       "</table>\n",
       "</div>"
      ],
      "text/plain": [
       "      result                                            message  \\\n",
       "3877       0       What you need. You have a person to give na.   \n",
       "4532       1  Gr8 new service - live sex video chat on your ...   \n",
       "\n",
       "      num_characters  num_words  \\\n",
       "3877              44         10   \n",
       "4532             160         34   \n",
       "\n",
       "                                          num_sentences  \n",
       "3877   [What you need,  You have a person to give na, ]  \n",
       "4532  [Gr8 new service - live sex video chat on your...  "
      ]
     },
     "execution_count": 21,
     "metadata": {},
     "output_type": "execute_result"
    }
   ],
   "source": [
    "df.sample(2)"
   ]
  },
  {
   "cell_type": "code",
   "execution_count": 22,
   "id": "1f60832a",
   "metadata": {
    "execution": {
     "iopub.execute_input": "2024-07-13T18:05:30.438380Z",
     "iopub.status.busy": "2024-07-13T18:05:30.437961Z",
     "iopub.status.idle": "2024-07-13T18:05:30.446696Z",
     "shell.execute_reply": "2024-07-13T18:05:30.445464Z"
    },
    "papermill": {
     "duration": 0.031204,
     "end_time": "2024-07-13T18:05:30.449493",
     "exception": false,
     "start_time": "2024-07-13T18:05:30.418289",
     "status": "completed"
    },
    "tags": []
   },
   "outputs": [
    {
     "data": {
      "text/plain": [
       "'Ok lar... Joking wif u oni...'"
      ]
     },
     "execution_count": 22,
     "metadata": {},
     "output_type": "execute_result"
    }
   ],
   "source": [
    "df['message'][1]"
   ]
  },
  {
   "cell_type": "code",
   "execution_count": 23,
   "id": "48243365",
   "metadata": {
    "execution": {
     "iopub.execute_input": "2024-07-13T18:05:30.496936Z",
     "iopub.status.busy": "2024-07-13T18:05:30.495796Z",
     "iopub.status.idle": "2024-07-13T18:05:30.508296Z",
     "shell.execute_reply": "2024-07-13T18:05:30.504963Z"
    },
    "papermill": {
     "duration": 0.043936,
     "end_time": "2024-07-13T18:05:30.512418",
     "exception": false,
     "start_time": "2024-07-13T18:05:30.468482",
     "status": "completed"
    },
    "tags": []
   },
   "outputs": [
    {
     "data": {
      "text/plain": [
       "['Ok lar', '', '', ' Joking wif u oni', '', '', '']"
      ]
     },
     "execution_count": 23,
     "metadata": {},
     "output_type": "execute_result"
    }
   ],
   "source": [
    "df['num_sentences'][1]"
   ]
  },
  {
   "cell_type": "code",
   "execution_count": 24,
   "id": "92b4edbb",
   "metadata": {
    "execution": {
     "iopub.execute_input": "2024-07-13T18:05:30.563458Z",
     "iopub.status.busy": "2024-07-13T18:05:30.562999Z",
     "iopub.status.idle": "2024-07-13T18:05:30.571688Z",
     "shell.execute_reply": "2024-07-13T18:05:30.570202Z"
    },
    "papermill": {
     "duration": 0.031872,
     "end_time": "2024-07-13T18:05:30.574435",
     "exception": false,
     "start_time": "2024-07-13T18:05:30.542563",
     "status": "completed"
    },
    "tags": []
   },
   "outputs": [
    {
     "data": {
      "text/plain": [
       "2"
      ]
     },
     "execution_count": 24,
     "metadata": {},
     "output_type": "execute_result"
    }
   ],
   "source": [
    "len(list(filter(None, df['num_sentences'][1])))"
   ]
  },
  {
   "cell_type": "code",
   "execution_count": 25,
   "id": "28a00360",
   "metadata": {
    "execution": {
     "iopub.execute_input": "2024-07-13T18:05:30.614981Z",
     "iopub.status.busy": "2024-07-13T18:05:30.614522Z",
     "iopub.status.idle": "2024-07-13T18:05:30.634334Z",
     "shell.execute_reply": "2024-07-13T18:05:30.632879Z"
    },
    "papermill": {
     "duration": 0.043883,
     "end_time": "2024-07-13T18:05:30.637444",
     "exception": false,
     "start_time": "2024-07-13T18:05:30.593561",
     "status": "completed"
    },
    "tags": []
   },
   "outputs": [],
   "source": [
    "df['num_sentences']=df['num_sentences'].apply(lambda x:len(list(filter(None,x))))"
   ]
  },
  {
   "cell_type": "code",
   "execution_count": 26,
   "id": "b6963c4a",
   "metadata": {
    "execution": {
     "iopub.execute_input": "2024-07-13T18:05:30.687068Z",
     "iopub.status.busy": "2024-07-13T18:05:30.686345Z",
     "iopub.status.idle": "2024-07-13T18:05:30.703554Z",
     "shell.execute_reply": "2024-07-13T18:05:30.701741Z"
    },
    "papermill": {
     "duration": 0.048808,
     "end_time": "2024-07-13T18:05:30.707974",
     "exception": false,
     "start_time": "2024-07-13T18:05:30.659166",
     "status": "completed"
    },
    "tags": []
   },
   "outputs": [
    {
     "data": {
      "text/html": [
       "<div>\n",
       "<style scoped>\n",
       "    .dataframe tbody tr th:only-of-type {\n",
       "        vertical-align: middle;\n",
       "    }\n",
       "\n",
       "    .dataframe tbody tr th {\n",
       "        vertical-align: top;\n",
       "    }\n",
       "\n",
       "    .dataframe thead th {\n",
       "        text-align: right;\n",
       "    }\n",
       "</style>\n",
       "<table border=\"1\" class=\"dataframe\">\n",
       "  <thead>\n",
       "    <tr style=\"text-align: right;\">\n",
       "      <th></th>\n",
       "      <th>result</th>\n",
       "      <th>message</th>\n",
       "      <th>num_characters</th>\n",
       "      <th>num_words</th>\n",
       "      <th>num_sentences</th>\n",
       "    </tr>\n",
       "  </thead>\n",
       "  <tbody>\n",
       "    <tr>\n",
       "      <th>0</th>\n",
       "      <td>0</td>\n",
       "      <td>Go until jurong point, crazy.. Available only ...</td>\n",
       "      <td>111</td>\n",
       "      <td>20</td>\n",
       "      <td>3</td>\n",
       "    </tr>\n",
       "    <tr>\n",
       "      <th>1</th>\n",
       "      <td>0</td>\n",
       "      <td>Ok lar... Joking wif u oni...</td>\n",
       "      <td>29</td>\n",
       "      <td>6</td>\n",
       "      <td>2</td>\n",
       "    </tr>\n",
       "    <tr>\n",
       "      <th>2</th>\n",
       "      <td>1</td>\n",
       "      <td>Free entry in 2 a wkly comp to win FA Cup fina...</td>\n",
       "      <td>155</td>\n",
       "      <td>28</td>\n",
       "      <td>2</td>\n",
       "    </tr>\n",
       "    <tr>\n",
       "      <th>3</th>\n",
       "      <td>0</td>\n",
       "      <td>U dun say so early hor... U c already then say...</td>\n",
       "      <td>49</td>\n",
       "      <td>11</td>\n",
       "      <td>2</td>\n",
       "    </tr>\n",
       "    <tr>\n",
       "      <th>4</th>\n",
       "      <td>0</td>\n",
       "      <td>Nah I don't think he goes to usf, he lives aro...</td>\n",
       "      <td>61</td>\n",
       "      <td>13</td>\n",
       "      <td>1</td>\n",
       "    </tr>\n",
       "  </tbody>\n",
       "</table>\n",
       "</div>"
      ],
      "text/plain": [
       "   result                                            message  num_characters  \\\n",
       "0       0  Go until jurong point, crazy.. Available only ...             111   \n",
       "1       0                      Ok lar... Joking wif u oni...              29   \n",
       "2       1  Free entry in 2 a wkly comp to win FA Cup fina...             155   \n",
       "3       0  U dun say so early hor... U c already then say...              49   \n",
       "4       0  Nah I don't think he goes to usf, he lives aro...              61   \n",
       "\n",
       "   num_words  num_sentences  \n",
       "0         20              3  \n",
       "1          6              2  \n",
       "2         28              2  \n",
       "3         11              2  \n",
       "4         13              1  "
      ]
     },
     "execution_count": 26,
     "metadata": {},
     "output_type": "execute_result"
    }
   ],
   "source": [
    "df.head()"
   ]
  },
  {
   "cell_type": "code",
   "execution_count": 27,
   "id": "bde39093",
   "metadata": {
    "execution": {
     "iopub.execute_input": "2024-07-13T18:05:30.765438Z",
     "iopub.status.busy": "2024-07-13T18:05:30.764965Z",
     "iopub.status.idle": "2024-07-13T18:05:31.233704Z",
     "shell.execute_reply": "2024-07-13T18:05:31.232375Z"
    },
    "papermill": {
     "duration": 0.498821,
     "end_time": "2024-07-13T18:05:31.236914",
     "exception": false,
     "start_time": "2024-07-13T18:05:30.738093",
     "status": "completed"
    },
    "tags": []
   },
   "outputs": [],
   "source": [
    "import seaborn as sns"
   ]
  },
  {
   "cell_type": "code",
   "execution_count": 28,
   "id": "94f76beb",
   "metadata": {
    "execution": {
     "iopub.execute_input": "2024-07-13T18:05:31.278878Z",
     "iopub.status.busy": "2024-07-13T18:05:31.278396Z",
     "iopub.status.idle": "2024-07-13T18:05:31.932016Z",
     "shell.execute_reply": "2024-07-13T18:05:31.930616Z"
    },
    "papermill": {
     "duration": 0.677641,
     "end_time": "2024-07-13T18:05:31.934894",
     "exception": false,
     "start_time": "2024-07-13T18:05:31.257253",
     "status": "completed"
    },
    "tags": []
   },
   "outputs": [
    {
     "name": "stderr",
     "output_type": "stream",
     "text": [
      "/opt/conda/lib/python3.10/site-packages/seaborn/_oldcore.py:1119: FutureWarning: use_inf_as_na option is deprecated and will be removed in a future version. Convert inf values to NaN before operating instead.\n",
      "  with pd.option_context('mode.use_inf_as_na', True):\n",
      "/opt/conda/lib/python3.10/site-packages/seaborn/_oldcore.py:1119: FutureWarning: use_inf_as_na option is deprecated and will be removed in a future version. Convert inf values to NaN before operating instead.\n",
      "  with pd.option_context('mode.use_inf_as_na', True):\n"
     ]
    },
    {
     "data": {
      "text/plain": [
       "<Axes: xlabel='num_characters', ylabel='Count'>"
      ]
     },
     "execution_count": 28,
     "metadata": {},
     "output_type": "execute_result"
    },
    {
     "data": {
      "image/png": "[encoded data removed]",
      "text/plain": [
       "<Figure size 640x480 with 1 Axes>"
      ]
     },
     "metadata": {},
     "output_type": "display_data"
    }
   ],
   "source": [
    "#plot on basis on number of characters\n",
    "sns.histplot(df[df['result']==0]['num_characters'],color='green')\n",
    "sns.histplot(df[df['result']==1]['num_characters'],color='red')"
   ]
  },
  {
   "cell_type": "code",
   "execution_count": 29,
   "id": "05be6f2e",
   "metadata": {
    "execution": {
     "iopub.execute_input": "2024-07-13T18:05:31.975695Z",
     "iopub.status.busy": "2024-07-13T18:05:31.975280Z",
     "iopub.status.idle": "2024-07-13T18:05:32.596430Z",
     "shell.execute_reply": "2024-07-13T18:05:32.595112Z"
    },
    "papermill": {
     "duration": 0.6447,
     "end_time": "2024-07-13T18:05:32.599414",
     "exception": false,
     "start_time": "2024-07-13T18:05:31.954714",
     "status": "completed"
    },
    "tags": []
   },
   "outputs": [
    {
     "name": "stderr",
     "output_type": "stream",
     "text": [
      "/opt/conda/lib/python3.10/site-packages/seaborn/_oldcore.py:1119: FutureWarning: use_inf_as_na option is deprecated and will be removed in a future version. Convert inf values to NaN before operating instead.\n",
      "  with pd.option_context('mode.use_inf_as_na', True):\n",
      "/opt/conda/lib/python3.10/site-packages/seaborn/_oldcore.py:1119: FutureWarning: use_inf_as_na option is deprecated and will be removed in a future version. Convert inf values to NaN before operating instead.\n",
      "  with pd.option_context('mode.use_inf_as_na', True):\n"
     ]
    },
    {
     "data": {
      "text/plain": [
       "<Axes: xlabel='num_words', ylabel='Count'>"
      ]
     },
     "execution_count": 29,
     "metadata": {},
     "output_type": "execute_result"
    },
    {
     "data": {
      "image/png": "[encoded data removed]",
      "text/plain": [
       "<Figure size 640x480 with 1 Axes>"
      ]
     },
     "metadata": {},
     "output_type": "display_data"
    }
   ],
   "source": [
    "#plot on basis on number of words\n",
    "sns.histplot(df[df['result']==0]['num_words'],color='green')\n",
    "sns.histplot(df[df['result']==1]['num_words'],color='red')"
   ]
  },
  {
   "cell_type": "code",
   "execution_count": 30,
   "id": "597a4d4f",
   "metadata": {
    "execution": {
     "iopub.execute_input": "2024-07-13T18:05:32.643414Z",
     "iopub.status.busy": "2024-07-13T18:05:32.642959Z",
     "iopub.status.idle": "2024-07-13T18:05:33.342358Z",
     "shell.execute_reply": "2024-07-13T18:05:33.340639Z"
    },
    "papermill": {
     "duration": 0.725467,
     "end_time": "2024-07-13T18:05:33.345752",
     "exception": false,
     "start_time": "2024-07-13T18:05:32.620285",
     "status": "completed"
    },
    "tags": []
   },
   "outputs": [
    {
     "name": "stderr",
     "output_type": "stream",
     "text": [
      "/opt/conda/lib/python3.10/site-packages/seaborn/_oldcore.py:1119: FutureWarning: use_inf_as_na option is deprecated and will be removed in a future version. Convert inf values to NaN before operating instead.\n",
      "  with pd.option_context('mode.use_inf_as_na', True):\n",
      "/opt/conda/lib/python3.10/site-packages/seaborn/_oldcore.py:1119: FutureWarning: use_inf_as_na option is deprecated and will be removed in a future version. Convert inf values to NaN before operating instead.\n",
      "  with pd.option_context('mode.use_inf_as_na', True):\n"
     ]
    },
    {
     "data": {
      "text/plain": [
       "<Axes: xlabel='num_sentences', ylabel='Count'>"
      ]
     },
     "execution_count": 30,
     "metadata": {},
     "output_type": "execute_result"
    },
    {
     "data": {
      "image/png": "[encoded data removed]",
      "text/plain": [
       "<Figure size 640x480 with 1 Axes>"
      ]
     },
     "metadata": {},
     "output_type": "display_data"
    }
   ],
   "source": [
    "#plot on basis on number of sentences\n",
    "sns.histplot(df[df['result']==0]['num_sentences'],color='green')\n",
    "sns.histplot(df[df['result']==1]['num_sentences'],color='red')"
   ]
  },
  {
   "cell_type": "code",
   "execution_count": 31,
   "id": "fcf89722",
   "metadata": {
    "execution": {
     "iopub.execute_input": "2024-07-13T18:05:33.389610Z",
     "iopub.status.busy": "2024-07-13T18:05:33.389108Z",
     "iopub.status.idle": "2024-07-13T18:05:33.399136Z",
     "shell.execute_reply": "2024-07-13T18:05:33.397364Z"
    },
    "papermill": {
     "duration": 0.036066,
     "end_time": "2024-07-13T18:05:33.402298",
     "exception": false,
     "start_time": "2024-07-13T18:05:33.366232",
     "status": "completed"
    },
    "tags": []
   },
   "outputs": [],
   "source": [
    "df_excluded = df.drop(columns=['message'])"
   ]
  },
  {
   "cell_type": "code",
   "execution_count": 32,
   "id": "e8f749d7",
   "metadata": {
    "execution": {
     "iopub.execute_input": "2024-07-13T18:05:33.446293Z",
     "iopub.status.busy": "2024-07-13T18:05:33.445801Z",
     "iopub.status.idle": "2024-07-13T18:05:33.891341Z",
     "shell.execute_reply": "2024-07-13T18:05:33.890051Z"
    },
    "papermill": {
     "duration": 0.470939,
     "end_time": "2024-07-13T18:05:33.894487",
     "exception": false,
     "start_time": "2024-07-13T18:05:33.423548",
     "status": "completed"
    },
    "tags": []
   },
   "outputs": [
    {
     "data": {
      "text/plain": [
       "<Axes: >"
      ]
     },
     "execution_count": 32,
     "metadata": {},
     "output_type": "execute_result"
    },
    {
     "data": {
      "image/png": "[encoded data removed]",
      "text/plain": [
       "<Figure size 640x480 with 2 Axes>"
      ]
     },
     "metadata": {},
     "output_type": "display_data"
    }
   ],
   "source": [
    "sns.heatmap(df_excluded.corr(),annot=True)"
   ]
  },
  {
   "cell_type": "markdown",
   "id": "ec9eff1f",
   "metadata": {
    "papermill": {
     "duration": 0.022418,
     "end_time": "2024-07-13T18:05:33.939038",
     "exception": false,
     "start_time": "2024-07-13T18:05:33.916620",
     "status": "completed"
    },
    "tags": []
   },
   "source": [
    "Increase in no. of characters -> means ham"
   ]
  },
  {
   "cell_type": "markdown",
   "id": "ef7d920c",
   "metadata": {
    "papermill": {
     "duration": 0.022282,
     "end_time": "2024-07-13T18:05:33.984836",
     "exception": false,
     "start_time": "2024-07-13T18:05:33.962554",
     "status": "completed"
    },
    "tags": []
   },
   "source": [
    "## Model Building"
   ]
  },
  {
   "cell_type": "code",
   "execution_count": 33,
   "id": "b04540a8",
   "metadata": {
    "execution": {
     "iopub.execute_input": "2024-07-13T18:05:34.031838Z",
     "iopub.status.busy": "2024-07-13T18:05:34.031377Z",
     "iopub.status.idle": "2024-07-13T18:05:34.062146Z",
     "shell.execute_reply": "2024-07-13T18:05:34.060471Z"
    },
    "papermill": {
     "duration": 0.058318,
     "end_time": "2024-07-13T18:05:34.065490",
     "exception": false,
     "start_time": "2024-07-13T18:05:34.007172",
     "status": "completed"
    },
    "tags": []
   },
   "outputs": [],
   "source": [
    "from sklearn.feature_extraction.text import TfidfVectorizer\n",
    "tfid=TfidfVectorizer(max_features=2500)"
   ]
  },
  {
   "cell_type": "code",
   "execution_count": 34,
   "id": "5f2743cd",
   "metadata": {
    "execution": {
     "iopub.execute_input": "2024-07-13T18:05:34.109738Z",
     "iopub.status.busy": "2024-07-13T18:05:34.109309Z",
     "iopub.status.idle": "2024-07-13T18:05:34.411896Z",
     "shell.execute_reply": "2024-07-13T18:05:34.410365Z"
    },
    "papermill": {
     "duration": 0.328106,
     "end_time": "2024-07-13T18:05:34.414861",
     "exception": false,
     "start_time": "2024-07-13T18:05:34.086755",
     "status": "completed"
    },
    "tags": []
   },
   "outputs": [],
   "source": [
    "X=tfid.fit_transform(df['message']).toarray()"
   ]
  },
  {
   "cell_type": "code",
   "execution_count": 35,
   "id": "8000a682",
   "metadata": {
    "execution": {
     "iopub.execute_input": "2024-07-13T18:05:34.459685Z",
     "iopub.status.busy": "2024-07-13T18:05:34.459289Z",
     "iopub.status.idle": "2024-07-13T18:05:34.465109Z",
     "shell.execute_reply": "2024-07-13T18:05:34.463893Z"
    },
    "papermill": {
     "duration": 0.031182,
     "end_time": "2024-07-13T18:05:34.467875",
     "exception": false,
     "start_time": "2024-07-13T18:05:34.436693",
     "status": "completed"
    },
    "tags": []
   },
   "outputs": [],
   "source": [
    "y=df['result'].values"
   ]
  },
  {
   "cell_type": "code",
   "execution_count": 36,
   "id": "e371c258",
   "metadata": {
    "execution": {
     "iopub.execute_input": "2024-07-13T18:05:34.515096Z",
     "iopub.status.busy": "2024-07-13T18:05:34.514662Z",
     "iopub.status.idle": "2024-07-13T18:05:34.756534Z",
     "shell.execute_reply": "2024-07-13T18:05:34.755175Z"
    },
    "papermill": {
     "duration": 0.267934,
     "end_time": "2024-07-13T18:05:34.759509",
     "exception": false,
     "start_time": "2024-07-13T18:05:34.491575",
     "status": "completed"
    },
    "tags": []
   },
   "outputs": [],
   "source": [
    "from sklearn.model_selection import train_test_split"
   ]
  },
  {
   "cell_type": "code",
   "execution_count": 37,
   "id": "6437e743",
   "metadata": {
    "execution": {
     "iopub.execute_input": "2024-07-13T18:05:34.804495Z",
     "iopub.status.busy": "2024-07-13T18:05:34.804065Z",
     "iopub.status.idle": "2024-07-13T18:05:34.866833Z",
     "shell.execute_reply": "2024-07-13T18:05:34.865514Z"
    },
    "papermill": {
     "duration": 0.089158,
     "end_time": "2024-07-13T18:05:34.869805",
     "exception": false,
     "start_time": "2024-07-13T18:05:34.780647",
     "status": "completed"
    },
    "tags": []
   },
   "outputs": [],
   "source": [
    "X_train,X_test,y_train,y_test=train_test_split(X,y,test_size=0.2)"
   ]
  },
  {
   "cell_type": "code",
   "execution_count": 38,
   "id": "ea613df7",
   "metadata": {
    "execution": {
     "iopub.execute_input": "2024-07-13T18:05:34.913481Z",
     "iopub.status.busy": "2024-07-13T18:05:34.912998Z",
     "iopub.status.idle": "2024-07-13T18:05:35.493713Z",
     "shell.execute_reply": "2024-07-13T18:05:35.492095Z"
    },
    "papermill": {
     "duration": 0.606036,
     "end_time": "2024-07-13T18:05:35.496886",
     "exception": false,
     "start_time": "2024-07-13T18:05:34.890850",
     "status": "completed"
    },
    "tags": []
   },
   "outputs": [],
   "source": [
    "from sklearn.naive_bayes import GaussianNB, MultinomialNB, BernoulliNB\n",
    "from sklearn.metrics import accuracy_score,confusion_matrix,precision_score\n",
    "from mlxtend.plotting import plot_confusion_matrix\n",
    "from sklearn.svm import SVC\n",
    "from sklearn.linear_model import LogisticRegression\n",
    "from sklearn.ensemble import RandomForestClassifier, GradientBoostingClassifier\n",
    "from sklearn.tree import DecisionTreeClassifier\n",
    "from xgboost import XGBClassifier \n",
    "import matplotlib.pyplot as plt"
   ]
  },
  {
   "cell_type": "code",
   "execution_count": 39,
   "id": "6e190e0e",
   "metadata": {
    "execution": {
     "iopub.execute_input": "2024-07-13T18:05:35.543525Z",
     "iopub.status.busy": "2024-07-13T18:05:35.542370Z",
     "iopub.status.idle": "2024-07-13T18:06:17.752069Z",
     "shell.execute_reply": "2024-07-13T18:06:17.749481Z"
    },
    "papermill": {
     "duration": 42.252476,
     "end_time": "2024-07-13T18:06:17.771362",
     "exception": false,
     "start_time": "2024-07-13T18:05:35.518886",
     "status": "completed"
    },
    "tags": []
   },
   "outputs": [
    {
     "name": "stdout",
     "output_type": "stream",
     "text": [
      "Model ==> Gaussian Naive Bayes\n",
      "Accuracy ==> 0.89\n",
      "Precision ==> 0.57\n"
     ]
    },
    {
     "data": {
      "image/png": "[encoded data removed]",
      "text/plain": [
       "<Figure size 640x480 with 1 Axes>"
      ]
     },
     "metadata": {},
     "output_type": "display_data"
    },
    {
     "name": "stdout",
     "output_type": "stream",
     "text": [
      "\n",
      "\n",
      "Model ==> Multinomial Naive Bayes\n",
      "Accuracy ==> 0.97\n",
      "Precision ==> 1.00\n"
     ]
    },
    {
     "data": {
      "image/png": "[encoded data removed]",
      "text/plain": [
       "<Figure size 640x480 with 1 Axes>"
      ]
     },
     "metadata": {},
     "output_type": "display_data"
    },
    {
     "name": "stdout",
     "output_type": "stream",
     "text": [
      "\n",
      "\n",
      "Model ==> Bernoulli Naive Bayes\n",
      "Accuracy ==> 0.98\n",
      "Precision ==> 0.98\n"
     ]
    },
    {
     "data": {
      "image/png": "[encoded data removed]",
      "text/plain": [
       "<Figure size 640x480 with 1 Axes>"
      ]
     },
     "metadata": {},
     "output_type": "display_data"
    },
    {
     "name": "stdout",
     "output_type": "stream",
     "text": [
      "\n",
      "\n",
      "Model ==> Support Vector\n",
      "Accuracy ==> 0.98\n",
      "Precision ==> 0.98\n"
     ]
    },
    {
     "data": {
      "image/png": "[encoded data removed]",
      "text/plain": [
       "<Figure size 640x480 with 1 Axes>"
      ]
     },
     "metadata": {},
     "output_type": "display_data"
    },
    {
     "name": "stdout",
     "output_type": "stream",
     "text": [
      "\n",
      "\n",
      "Model ==> Logistic regression\n",
      "Accuracy ==> 0.96\n",
      "Precision ==> 0.95\n"
     ]
    },
    {
     "data": {
      "image/png": "[encoded data removed]",
      "text/plain": [
       "<Figure size 640x480 with 1 Axes>"
      ]
     },
     "metadata": {},
     "output_type": "display_data"
    },
    {
     "name": "stdout",
     "output_type": "stream",
     "text": [
      "\n",
      "\n",
      "Model ==> Random Forest\n",
      "Accuracy ==> 0.97\n",
      "Precision ==> 0.97\n"
     ]
    },
    {
     "data": {
      "image/png": "[encoded data removed]",
      "text/plain": [
       "<Figure size 640x480 with 1 Axes>"
      ]
     },
     "metadata": {},
     "output_type": "display_data"
    },
    {
     "name": "stdout",
     "output_type": "stream",
     "text": [
      "\n",
      "\n",
      "Model ==> Decision Trees\n",
      "Accuracy ==> 0.94\n",
      "Precision ==> 0.91\n"
     ]
    },
    {
     "data": {
      "image/png": "[encoded data removed]",
      "text/plain": [
       "<Figure size 640x480 with 1 Axes>"
      ]
     },
     "metadata": {},
     "output_type": "display_data"
    },
    {
     "name": "stdout",
     "output_type": "stream",
     "text": [
      "\n",
      "\n",
      "Model ==> XGBClassifier\n",
      "Accuracy ==> 0.97\n",
      "Precision ==> 0.95\n"
     ]
    },
    {
     "data": {
      "image/png": "[encoded data removed]",
      "text/plain": [
       "<Figure size 640x480 with 1 Axes>"
      ]
     },
     "metadata": {},
     "output_type": "display_data"
    },
    {
     "name": "stdout",
     "output_type": "stream",
     "text": [
      "\n",
      "\n",
      "Model ==> GradientBoostingClassifier\n",
      "Accuracy ==> 0.95\n",
      "Precision ==> 0.93\n"
     ]
    },
    {
     "data": {
      "image/png": "[encoded data removed]",
      "text/plain": [
       "<Figure size 640x480 with 1 Axes>"
      ]
     },
     "metadata": {},
     "output_type": "display_data"
    },
    {
     "name": "stdout",
     "output_type": "stream",
     "text": [
      "\n",
      "\n"
     ]
    }
   ],
   "source": [
    "models = [[GaussianNB(), \"Gaussian Naive Bayes\"],\n",
    "          [MultinomialNB(), \"Multinomial Naive Bayes\"],\n",
    "          [BernoulliNB(), \"Bernoulli Naive Bayes\"],\n",
    "          [SVC(kernel='sigmoid',gamma=1.0), \"Support Vector\"],\n",
    "          [LogisticRegression(solver='liblinear',penalty='l1'), \"Logistic regression\"],\n",
    "          [RandomForestClassifier(n_estimators = 50,random_state=2), \"Random Forest\"],\n",
    "          [DecisionTreeClassifier(max_depth = 5), \"Decision Trees\"],\n",
    "          [XGBClassifier(n_estimators=50, random_state=2), \"XGBClassifier\"],\n",
    "          [GradientBoostingClassifier(n_estimators=50, random_state=2),\"GradientBoostingClassifier\"]]\n",
    "\n",
    "for i in models:\n",
    "    name = i[1]\n",
    "    model = i[0]\n",
    "    model.fit(X_train, y_train)\n",
    "    y_pred1 = model.predict(X_test)\n",
    "    accuracy = accuracy_score(y_test, y_pred1)\n",
    "    precision = precision_score(y_test, y_pred1)\n",
    "\n",
    "    print(f'Model ==> {name}')\n",
    "    print(f'Accuracy ==> {accuracy:.2f}')\n",
    "    print(f'Precision ==> {precision:.2f}')\n",
    "    cnf = confusion_matrix(y_test,y_pred1)\n",
    "    fig, ax = plot_confusion_matrix(conf_mat = cnf)\n",
    "    plt.show()\n",
    "    print(\"\\n\")"
   ]
  },
  {
   "cell_type": "markdown",
   "id": "976e7aa8",
   "metadata": {
    "papermill": {
     "duration": 0.025952,
     "end_time": "2024-07-13T18:06:17.830515",
     "exception": false,
     "start_time": "2024-07-13T18:06:17.804563",
     "status": "completed"
    },
    "tags": []
   },
   "source": [
    "## Using Multinomial Naive Bayes as Precision score is 1 \n",
    "### It is a specialized version of Naive Bayes that is designed more for text documents."
   ]
  },
  {
   "cell_type": "code",
   "execution_count": 40,
   "id": "c5306180",
   "metadata": {
    "execution": {
     "iopub.execute_input": "2024-07-13T18:06:17.889829Z",
     "iopub.status.busy": "2024-07-13T18:06:17.889276Z",
     "iopub.status.idle": "2024-07-13T18:06:17.964239Z",
     "shell.execute_reply": "2024-07-13T18:06:17.960189Z"
    },
    "papermill": {
     "duration": 0.111795,
     "end_time": "2024-07-13T18:06:17.970381",
     "exception": false,
     "start_time": "2024-07-13T18:06:17.858586",
     "status": "completed"
    },
    "tags": []
   },
   "outputs": [
    {
     "name": "stdout",
     "output_type": "stream",
     "text": [
      "0.971953578336557\n",
      "1.0\n"
     ]
    }
   ],
   "source": [
    "mnb=MultinomialNB()\n",
    "mnb.fit(X_train, y_train)\n",
    "y_pred = mnb.predict(X_test)\n",
    "print(accuracy_score(y_test, y_pred))\n",
    "print(precision_score(y_test, y_pred))"
   ]
  },
  {
   "cell_type": "code",
   "execution_count": 41,
   "id": "ddee01d7",
   "metadata": {
    "execution": {
     "iopub.execute_input": "2024-07-13T18:06:18.077975Z",
     "iopub.status.busy": "2024-07-13T18:06:18.077435Z",
     "iopub.status.idle": "2024-07-13T18:06:18.100560Z",
     "shell.execute_reply": "2024-07-13T18:06:18.098841Z"
    },
    "papermill": {
     "duration": 0.074617,
     "end_time": "2024-07-13T18:06:18.103851",
     "exception": false,
     "start_time": "2024-07-13T18:06:18.029234",
     "status": "completed"
    },
    "tags": []
   },
   "outputs": [],
   "source": [
    "import pickle\n",
    "pickle.dump(tfid,open('vector.pkl','wb'))\n",
    "pickle.dump(mnb,open('model.pkl','wb'))"
   ]
  },
  {
   "cell_type": "code",
   "execution_count": null,
   "id": "fa43ad30",
   "metadata": {
    "papermill": {
     "duration": 0.027524,
     "end_time": "2024-07-13T18:06:18.158696",
     "exception": false,
     "start_time": "2024-07-13T18:06:18.131172",
     "status": "completed"
    },
    "tags": []
   },
   "outputs": [],
   "source": []
  }
 ],
 "metadata": {
  "kaggle": {
   "accelerator": "none",
   "dataSources": [
    {
     "datasetId": 483,
     "sourceId": 982,
     "sourceType": "datasetVersion"
    }
   ],
   "dockerImageVersionId": 30746,
   "isGpuEnabled": false,
   "isInternetEnabled": true,
   "language": "python",
   "sourceType": "notebook"
  },
  "kernelspec": {
   "display_name": "Python 3",
   "language": "python",
   "name": "python3"
  },
  "language_info": {
   "codemirror_mode": {
    "name": "ipython",
    "version": 3
   },
   "file_extension": ".py",
   "mimetype": "text/x-python",
   "name": "python",
   "nbconvert_exporter": "python",
   "pygments_lexer": "ipython3",
   "version": "3.10.13"
  },
  "papermill": {
   "default_parameters": {},
   "duration": 56.595586,
   "end_time": "2024-07-13T18:06:19.214241",
   "environment_variables": {},
   "exception": null,
   "input_path": "__notebook__.ipynb",
   "output_path": "__notebook__.ipynb",
   "parameters": {},
   "start_time": "2024-07-13T18:05:22.618655",
   "version": "2.5.0"
  }
 },
 "nbformat": 4,
 "nbformat_minor": 5
}
